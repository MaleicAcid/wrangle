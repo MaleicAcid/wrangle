{
 "cells": [
  {
   "cell_type": "code",
   "execution_count": 1,
   "metadata": {
    "collapsed": true
   },
   "outputs": [],
   "source": [
    "import sys, string"
   ]
  },
  {
   "cell_type": "code",
   "execution_count": 2,
   "metadata": {
    "collapsed": true
   },
   "outputs": [],
   "source": [
    "import Nof1_functions\n",
    "Nof1_item = {\n",
    "    \"hub\" : \"https://itomic.xenahubs.net\",\n",
    "    \"dataset\" : \"latestCCI_EXP_G_TPM_log\",\n",
    "    \"mode\" : \"probe\",\n",
    "    \"name\" : \"itomic_Nof1\",\n",
    "    \"label\" : \"itomic_Nof1\",\n",
    "    \"log2Theta\" : 0.001,\n",
    "    \"unit\": \"log(TPM)\"\n",
    "}"
   ]
  },
  {
   "cell_type": "code",
   "execution_count": 3,
   "metadata": {
    "collapsed": false
   },
   "outputs": [
    {
     "name": "stdout",
     "output_type": "stream",
     "text": [
      "Enter sample name (e.g. 10-3-B1 or ALL): \n",
      "[u'13-1-B1', u'15-1-B1', u'15-1-B2', u'14-1-B1', u'14-1-B2', u'09-3-B1', u'10-3-B1', u'10-3-B2', u'16-1-B1', u'16-1-B4', u'17-1-B1', u'14-2-B1', u'14-2-B2', u'16-2-B1', u'16-2-B2']\n"
     ]
    }
   ],
   "source": [
    "# get samples\n",
    "Nof1_sample = raw_input('Enter sample name (e.g. 10-3-B1 or ALL): ') or \"ALL\"\n",
    "\n",
    "if Nof1_sample == \"ALL\":\n",
    "    Nof1_item[\"samples\"] = Nof1_functions.dataset_samples( Nof1_item[\"hub\"], Nof1_item[\"dataset\"])\n",
    "else:\n",
    "    if (Nof1_functions.checkSamples (Nof1_sample, Nof1_item[\"hub\"], Nof1_item[\"dataset\"])):\n",
    "        sys.exit()\n",
    "    else:\n",
    "        Nof1_item[\"samples\"]= [Nof1_sample]\n",
    "\n",
    "print Nof1_item[\"samples\"]"
   ]
  },
  {
   "cell_type": "code",
   "execution_count": 4,
   "metadata": {
    "collapsed": false
   },
   "outputs": [
    {
     "name": "stdout",
     "output_type": "stream",
     "text": [
      "Enter a single or a list of gene names (e.g. PTEN, AR, or ALL): ALL\n",
      "genes: [u'A1BG', u'A1BG-AS1', u'A1CF', u'A2M', u'A2M-AS1', u'A2ML1', u'A2MP1', u'A3GALT2', u'A4GALT', u'A4GNT'] ...\n"
     ]
    }
   ],
   "source": [
    "# enter gene \n",
    "genes = raw_input('Enter a single or a list of gene names (e.g. PTEN, AR, or ALL): ') or \"ALL\"\n",
    "\n",
    "if Nof1_item[\"mode\"] == \"probe\":\n",
    "    if genes ==\"ALL\":\n",
    "        genes = Nof1_functions.dataset_fields( Nof1_item[\"hub\"],  Nof1_item[\"dataset\"])\n",
    "    else:\n",
    "        genes = string.split(genes,',')\n",
    "    genaname_mapping ={}\n",
    "    \n",
    "if len(genes) >10:\n",
    "    print \"genes:\", genes[:10],\"...\"\n",
    "else:\n",
    "    print \"genes:\", genes[:10]"
   ]
  },
  {
   "cell_type": "code",
   "execution_count": 5,
   "metadata": {
    "collapsed": false
   },
   "outputs": [
    {
     "name": "stdout",
     "output_type": "stream",
     "text": [
      "Enter output file name (e.g. ALL)\n",
      "samples: ALL\n",
      "Results_Folder/ALL\n"
     ]
    }
   ],
   "source": [
    "# # Enter output file name\n",
    "\n",
    "outputfile = raw_input('Enter output file name (e.g. ' + Nof1_sample +\")\") or Nof1_sample\n",
    "outputfile = \"Results_Folder/\" + outputfile\n",
    "print \"output:\", outputfile"
   ]
  },
  {
   "cell_type": "code",
   "execution_count": null,
   "metadata": {
    "collapsed": true
   },
   "outputs": [],
   "source": [
    "# comparision list\n",
    "import xena_datasetlist\n",
    "\n",
    "comparison_list = [\n",
    "    xena_datasetlist.TCGA_TNBC,\n",
    "    xena_datasetlist.TCGA_BRCA_tumors,\n",
    "    #xena_datasetlist.TCGA_Breast_Basal,\n",
    "    #xena_datasetlist.TCGA_Breast_Her2,\n",
    "    #xena_datasetlist.TCGA_Breast_LumA,\n",
    "    #xena_datasetlist.TCGA_Breast_LumB,\n",
    "    #xena_datasetlist.TCGA_Breast_Adjacent_Normal,\n",
    "]"
   ]
  },
  {
   "cell_type": "code",
   "execution_count": null,
   "metadata": {
    "collapsed": true
   },
   "outputs": [],
   "source": [
    "# ## Run\n",
    "import itomic_WG_Nof1\n",
    "for comparison_item in comparison_list:\n",
    "    itomic_WG_Nof1.itomic_Nof1(Nof1_item, genes, genaname_mapping, comparison_item, outputfile + \"_vs_\"+ comparison_item[\"fileLabel\"]) \n",
    "print \"Done\""
   ]
  }
 ],
 "metadata": {
  "kernelspec": {
   "display_name": "Python [Root]",
   "language": "python",
   "name": "Python [Root]"
  },
  "language_info": {
   "codemirror_mode": {
    "name": "ipython",
    "version": 2
   },
   "file_extension": ".py",
   "mimetype": "text/x-python",
   "name": "python",
   "nbconvert_exporter": "python",
   "pygments_lexer": "ipython2",
   "version": "2.7.12"
  }
 },
 "nbformat": 4,
 "nbformat_minor": 0
}
