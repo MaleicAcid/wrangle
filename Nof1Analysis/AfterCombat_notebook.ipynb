{
 "cells": [
  {
   "cell_type": "code",
   "execution_count": null,
   "metadata": {
    "collapsed": false
   },
   "outputs": [],
   "source": [
    "Nof1_sample = raw_input('Enter sample name (e.g. 10-3-B1): ') or \"10-3-B1\"\n",
    "print Nof1_sample"
   ]
  },
  {
   "cell_type": "code",
   "execution_count": null,
   "metadata": {
    "collapsed": true
   },
   "outputs": [],
   "source": [
    "import sys\n",
    "sys.path.insert(0,\"../xena/\")\n",
    "import xena_datasetlist\n",
    "\n",
    "import Nof1_functions\n",
    "Nof1_item = {\n",
    "    \"hub\" : \"https://itomic.xenahubs.net\",\n",
    "    \"dataset\" : \"ITOMIC.TCGA.ComBat.NonParm.xena\",\n",
    "    \"mode\" : \"probe\",\n",
    "    \"name\" : \"itomic_Nof1\",\n",
    "    \"label\" : \"itomic_Nof1\",\n",
    "    \"samples\" : [Nof1_sample],\n",
    "    \"log2Theta\" : 0.001\n",
    "}"
   ]
  },
  {
   "cell_type": "markdown",
   "metadata": {},
   "source": [
    "# check sample"
   ]
  },
  {
   "cell_type": "code",
   "execution_count": null,
   "metadata": {
    "collapsed": false
   },
   "outputs": [],
   "source": [
    "if (Nof1_functions.checkSamples (Nof1_sample, Nof1_item[\"hub\"], Nof1_item[\"dataset\"])):\n",
    "    sys.exit()\n",
    "else:\n",
    "    print \"pass\""
   ]
  },
  {
   "cell_type": "markdown",
   "metadata": {},
   "source": [
    "# enter gene "
   ]
  },
  {
   "cell_type": "code",
   "execution_count": null,
   "metadata": {
    "collapsed": false
   },
   "outputs": [],
   "source": [
    "import re\n",
    "import string\n",
    "genes = raw_input('Enter a single or a list of gene names (e.g. PTEN or PTEN,TP53 or a column of gene names copied from a spreadsheet): ') or \"PTEN,TP53\"\n",
    "genes = filter(lambda x: x!='', re.split(';|,| |\\n', genes))\n",
    "new_genes =[]\n",
    "new_genes = [string.strip (genes[0])]\n",
    "for i in range (1, len(genes)):\n",
    "    gene = string.strip(genes[i])\n",
    "    if gene[0] ==\"(\" and gene[-1] ==\")\":\n",
    "        new_genes[-1] = new_genes[-1] + \" (\" + string.strip(gene[1:-1]) +\")\"\n",
    "    else:\n",
    "        new_genes.append(gene)\n",
    "genes = new_genes\n",
    "print genes"
   ]
  },
  {
   "cell_type": "markdown",
   "metadata": {},
   "source": [
    "# gene name mapping"
   ]
  },
  {
   "cell_type": "code",
   "execution_count": null,
   "metadata": {
    "collapsed": false
   },
   "outputs": [],
   "source": [
    "genaname_mapping ={\n",
    "    \"CTLA-4\" : \"CTLA4\",\n",
    "    \"LAG-3\" : \"LAG3\",\n",
    "    \"LIV-1\" : \"SLC39A6\",\n",
    "    \"PD-L1\" : \"CD274\",\n",
    "    \"PDL1\" : \"CD274\",\n",
    "    \"PD-L2\" : \"PDCD1LG2\",\n",
    "    \"PDL2\" : \"PDCD1LG2\",\n",
    "    \"TROP2\" : \"TACSTD2\",\n",
    "    \"p16\" : \"CDKN2A\",\n",
    "    \"p18\" : \"CDKN2C\",\n",
    "    \"MLL2\" :\"KMT2D\",\n",
    "    \"CD105\" : \"ENG\",\n",
    "    \"YB1\" : \"YBX1\",\n",
    "    \"MMP-9\": \"MMP9\",\n",
    "    \"CHK1\": \"CHEK1\",\n",
    "    \"CHK2\": \"CHEK2\",\n",
    "    \"FOXO3a\": \"FOXO3\",\n",
    "    \"IGFR1\": \"IGF1R\",\n",
    "    \"MLL3\": \"KMT2C\",\n",
    "    \"ROS\":\"ROS1\",\n",
    "    \"TSC\":\"TSC1\"\n",
    "}"
   ]
  },
  {
   "cell_type": "markdown",
   "metadata": {},
   "source": [
    "# check gene name"
   ]
  },
  {
   "cell_type": "code",
   "execution_count": null,
   "metadata": {
    "collapsed": false
   },
   "outputs": [],
   "source": [
    "def cleanGeneName_Funtion (originalLable):\n",
    "    return string.strip(string.split(originalLable,'(')[0])\n",
    "\n",
    "if (Nof1_functions.checkFields(genes, genaname_mapping, Nof1_item[\"hub\"], Nof1_item[\"dataset\"], cleanGeneName_Funtion)):\n",
    "    sys.exit()\n",
    "else:\n",
    "    print \"pass\""
   ]
  },
  {
   "cell_type": "markdown",
   "metadata": {},
   "source": [
    "# Enter output file name"
   ]
  },
  {
   "cell_type": "code",
   "execution_count": null,
   "metadata": {
    "collapsed": false
   },
   "outputs": [],
   "source": [
    "outputfile = raw_input('Enter output file name (e.g. ' + Nof1_sample + '_result.txt): ') or Nof1_sample + \"_result.txt\"\n",
    "outputfile = \"Results_Folder/\" + outputfile"
   ]
  },
  {
   "cell_type": "markdown",
   "metadata": {},
   "source": [
    "## Run - results at the bottom"
   ]
  },
  {
   "cell_type": "code",
   "execution_count": null,
   "metadata": {
    "collapsed": false,
    "scrolled": false
   },
   "outputs": [],
   "source": [
    "print genes\n",
    "import xena_datasetlist\n",
    "\n",
    "comparison_list = [\n",
    "    xena_datasetlist.TCGA_TNBC_geneExp_Combat,\n",
    "    #xena_datasetlist.TCGA_BRCA_tumors_geneExp,\n",
    "]\n",
    "\n",
    "import itomic_Nof1\n",
    "itomic_Nof1.itomic_Nof1(Nof1_item, genes, genaname_mapping, comparison_list, outputfile)\n",
    "\n",
    "itomic_Nof1.itomic_legend()"
   ]
  }
 ],
 "metadata": {
  "anaconda-cloud": {},
  "kernelspec": {
   "display_name": "Python [Root]",
   "language": "python",
   "name": "Python [Root]"
  },
  "language_info": {
   "codemirror_mode": {
    "name": "ipython",
    "version": 2
   },
   "file_extension": ".py",
   "mimetype": "text/x-python",
   "name": "python",
   "nbconvert_exporter": "python",
   "pygments_lexer": "ipython2",
   "version": "2.7.12"
  }
 },
 "nbformat": 4,
 "nbformat_minor": 0
}
