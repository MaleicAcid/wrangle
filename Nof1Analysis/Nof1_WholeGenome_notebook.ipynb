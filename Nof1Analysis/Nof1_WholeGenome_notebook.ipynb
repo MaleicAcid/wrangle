{
 "cells": [
  {
   "cell_type": "code",
   "execution_count": null,
   "metadata": {
    "collapsed": true
   },
   "outputs": [],
   "source": [
    "import sys, string"
   ]
  },
  {
   "cell_type": "code",
   "execution_count": null,
   "metadata": {
    "collapsed": true
   },
   "outputs": [],
   "source": [
    "import Nof1_functions\n",
    "Nof1_item = {\n",
    "    \"hub\" : \"https://itomic.xenahubs.net\",\n",
    "    \"dataset\" : \"latestCCI_EXP_G_TPM_log\",\n",
    "    \"mode\" : \"probe\",\n",
    "    \"name\" : \"itomic_Nof1\",\n",
    "    \"label\" : \"itomic_Nof1\",\n",
    "    \"log2Theta\" : 0.001,\n",
    "    \"unit\": \"log(TPM)\"\n",
    "}"
   ]
  },
  {
   "cell_type": "code",
   "execution_count": null,
   "metadata": {
    "collapsed": false
   },
   "outputs": [],
   "source": [
    "# get samples\n",
    "Nof1_sample = raw_input('Enter sample name (e.g. 10-3-B1 or ALL): ') or \"ALL\"\n",
    "\n",
    "if Nof1_sample == \"ALL\":\n",
    "    Nof1_item[\"samples\"] = Nof1_functions.dataset_samples( Nof1_item[\"hub\"], Nof1_item[\"dataset\"])\n",
    "else:\n",
    "    if (Nof1_functions.checkSamples (Nof1_sample, Nof1_item[\"hub\"], Nof1_item[\"dataset\"])):\n",
    "        sys.exit()\n",
    "    else:\n",
    "        Nof1_item[\"samples\"]= [Nof1_sample]\n",
    "\n",
    "print Nof1_item[\"samples\"]"
   ]
  },
  {
   "cell_type": "code",
   "execution_count": null,
   "metadata": {
    "collapsed": false
   },
   "outputs": [],
   "source": [
    "# enter gene \n",
    "genes = raw_input('Enter a single or a list of gene names (e.g. PTEN, AR, or ALL): ') or \"ALL\"\n",
    "\n",
    "if Nof1_item[\"mode\"] == \"probe\":\n",
    "    if genes ==\"ALL\":\n",
    "        genes = Nof1_functions.dataset_fields( Nof1_item[\"hub\"],  Nof1_item[\"dataset\"])\n",
    "    else:\n",
    "        genes = string.split(genes,',')\n",
    "    genaname_mapping ={}\n",
    "    \n",
    "if len(genes) >10:\n",
    "    print \"genes:\", genes[:10],\"...\"\n",
    "else:\n",
    "    print \"genes:\", genes[:10]"
   ]
  },
  {
   "cell_type": "code",
   "execution_count": null,
   "metadata": {
    "collapsed": false
   },
   "outputs": [],
   "source": [
    "# # Enter output file name\n",
    "\n",
    "outputfile = raw_input('Enter output file name (e.g. ' + Nof1_sample +\")\") or Nof1_sample\n",
    "outputfile = \"Results_Folder/\" + outputfile\n",
    "print \"output:\", outputfile"
   ]
  },
  {
   "cell_type": "code",
   "execution_count": null,
   "metadata": {
    "collapsed": true
   },
   "outputs": [],
   "source": [
    "# comparision list\n",
    "import xena_datasetlist\n",
    "\n",
    "comparison_list = [\n",
    "    xena_datasetlist.TCGA_TNBC,\n",
    "    xena_datasetlist.TCGA_BRCA_tumors,\n",
    "    xena_datasetlist.GTEX_breast,\n",
    "    #xena_datasetlist.TCGA_Breast_Basal,\n",
    "    #xena_datasetlist.TCGA_Breast_Her2,\n",
    "    #xena_datasetlist.TCGA_Breast_LumA,\n",
    "    #xena_datasetlist.TCGA_Breast_LumB,\n",
    "    #xena_datasetlist.TCGA_Breast_Adjacent_Normal,\n",
    "]"
   ]
  },
  {
   "cell_type": "code",
   "execution_count": null,
   "metadata": {
    "collapsed": false
   },
   "outputs": [],
   "source": [
    "# ## Run\n",
    "import itomic_WG_Nof1\n",
    "for comparison_item in comparison_list:\n",
    "    itomic_WG_Nof1.itomic_Nof1(Nof1_item, genes, genaname_mapping, comparison_item, outputfile + \"_vs_\"+ comparison_item[\"fileLabel\"]) \n",
    "print \"Done\""
   ]
  }
 ],
 "metadata": {
  "kernelspec": {
   "display_name": "Python [Root]",
   "language": "python",
   "name": "Python [Root]"
  },
  "language_info": {
   "codemirror_mode": {
    "name": "ipython",
    "version": 2
   },
   "file_extension": ".py",
   "mimetype": "text/x-python",
   "name": "python",
   "nbconvert_exporter": "python",
   "pygments_lexer": "ipython2",
   "version": "2.7.12"
  }
 },
 "nbformat": 4,
 "nbformat_minor": 0
}
