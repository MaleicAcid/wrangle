{
 "cells": [
  {
   "cell_type": "code",
   "execution_count": 2,
   "metadata": {
    "collapsed": false
   },
   "outputs": [
    {
     "name": "stdout",
     "output_type": "stream",
     "text": [
      "Sample:  10-3-B1\n",
      "Gene: CTLA4\n",
      "log2(TPM): 3.6405 TPM: 12.47\n",
      "\n",
      "TCGA_tumors ( n= 9635 ):\n",
      "rank: 87\n",
      "percentile: 0.90%\n",
      "['0.90%', '1.15%', '2.00%', '2.22%', '26.52%', '31.12%', '27.48%', '24.44%']\n",
      "\n",
      "TCGA_BRCA_tumors ( n= 1099 ):\n",
      "rank: 5\n",
      "percentile: 0.45%\n",
      "['0.45%', '0.55%', '1.46%', '1.82%', '26.75%', '31.76%', '27.66%', '24.48%']\n",
      "\n",
      "TCGA_TNBC ( n= 123 ):\n",
      "rank: 2\n",
      "percentile: 1.63%\n",
      "['1.63%', '2.44%', '4.07%', '4.07%', '50.41%', '60.16%', '52.03%', '45.53%']\n",
      "\n",
      "GTEX_breast ( n= 179 ):\n",
      "rank: 0\n",
      "percentile: 0.00%\n",
      "['0.00%', '0.00%', '0.00%', '0.00%', '10.61%', '17.32%', '11.73%', '8.38%']\n",
      "\n",
      "expression values are sorted from high to low, low rank means high expression\n"
     ]
    }
   ],
   "source": [
    "Nof1_sample = \"10-3-B1\"\n",
    "gene = \"CTLA4\"\n",
    "\n",
    "Nof1_hub = \"https://itomic.xenahubs.net\"\n",
    "Nof1_dataset = \"latestCCI_EXP_G_TPM_log\"\n",
    "\n",
    "import samplelist\n",
    "\n",
    "comparison_list = [\n",
    "    { \n",
    "    \"hub\": \"https://toil.xenahubs.net\",\n",
    "    \"dataset\" : \"tcga_RSEM_gene_tpm\",\n",
    "    \"samples\": samplelist.TCGA_tumors,\n",
    "    \"name\": \"TCGA_tumors\"\n",
    "    },\n",
    "    { \n",
    "    \"hub\": \"https://toil.xenahubs.net\",\n",
    "    \"dataset\" : \"tcga_RSEM_gene_tpm\",\n",
    "    \"samples\": samplelist.TCGA_BRCA_tumors,\n",
    "    \"name\": \"TCGA_BRCA_tumors\"\n",
    "    },\n",
    "    { \n",
    "    \"hub\": \"https://toil.xenahubs.net\",\n",
    "    \"dataset\" : \"tcga_RSEM_gene_tpm\",\n",
    "    \"samples\": samplelist.TCGA_TNBC,\n",
    "    \"name\": \"TCGA_TNBC\"\n",
    "    },\n",
    "    { \n",
    "    \"hub\": \"https://toil.xenahubs.net\",\n",
    "    \"dataset\" : \"gtex_RSEM_gene_tpm\",\n",
    "    \"samples\": samplelist.GTEX_breast,\n",
    "    \"name\": \"GTEX_breast\"\n",
    "    }]\n",
    "\n",
    "\n",
    "import sys, getopt\n",
    "import itomic_Nof1\n",
    "\n",
    "def input(argv, Nof1_sample, gene):\n",
    "    try:\n",
    "        opts, args = getopt.getopt(argv,\"hs:g:\")\n",
    "        for opt, arg in opts:\n",
    "            if opt == '-h':\n",
    "                print (\"python Nof1.py -s <sample> -g <gene>\")\n",
    "                sys.exit()\n",
    "            if opt in (\"-s\"):\n",
    "                Nof1_sample = arg\n",
    "            if opt in (\"-g\"):\n",
    "                gene = arg\n",
    "\n",
    "    except getopt.GetoptError:\n",
    "        pass\n",
    "    return Nof1_sample, gene\n",
    "\n",
    "def legend():\n",
    "    print \"\\nexpression values are sorted from high to low, low rank means high expression\"\n",
    "    \n",
    "if __name__ == \"__main__\":\n",
    "    Nof1_sample, gene = input(sys.argv[1:], Nof1_sample, gene)\n",
    "    itomic_Nof1.itomic_Nof1(Nof1_sample, gene, Nof1_hub, Nof1_dataset, comparison_list)\n",
    "    legend()"
   ]
  },
  {
   "cell_type": "code",
   "execution_count": null,
   "metadata": {
    "collapsed": true
   },
   "outputs": [],
   "source": []
  },
  {
   "cell_type": "code",
   "execution_count": null,
   "metadata": {
    "collapsed": true
   },
   "outputs": [],
   "source": []
  }
 ],
 "metadata": {
  "anaconda-cloud": {},
  "kernelspec": {
   "display_name": "Python [ipykernel_py2]",
   "language": "python",
   "name": "Python [ipykernel_py2]"
  },
  "language_info": {
   "codemirror_mode": {
    "name": "ipython",
    "version": 2
   },
   "file_extension": ".py",
   "mimetype": "text/x-python",
   "name": "python",
   "nbconvert_exporter": "python",
   "pygments_lexer": "ipython2",
   "version": "2.7.12"
  }
 },
 "nbformat": 4,
 "nbformat_minor": 0
}
