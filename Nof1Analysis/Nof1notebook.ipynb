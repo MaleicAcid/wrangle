{
 "cells": [
  {
   "cell_type": "markdown",
   "metadata": {},
   "source": [
    "## enter sample"
   ]
  },
  {
   "cell_type": "code",
   "execution_count": 1,
   "metadata": {
    "collapsed": true
   },
   "outputs": [],
   "source": [
    "Nof1_sample = \"10-3-B1\""
   ]
  },
  {
   "cell_type": "markdown",
   "metadata": {},
   "source": [
    "## enter gene "
   ]
  },
  {
   "cell_type": "code",
   "execution_count": 2,
   "metadata": {
    "collapsed": true
   },
   "outputs": [],
   "source": [
    "gene = \"CDKN2A\""
   ]
  },
  {
   "cell_type": "markdown",
   "metadata": {},
   "source": [
    "## Run - results at the bottom"
   ]
  },
  {
   "cell_type": "code",
   "execution_count": null,
   "metadata": {
    "collapsed": true
   },
   "outputs": [],
   "source": [
    "Nof1_hub = \"https://itomic.xenahubs.net\"\n",
    "Nof1_dataset = \"latestCCI_EXP_G_TPM_log\"\n",
    "\n",
    "import samplelist\n",
    "\n",
    "comparison_list = [\n",
    "    { \n",
    "    \"hub\": \"https://toil.xenahubs.net\",\n",
    "    \"dataset\" : \"tcga_RSEM_gene_tpm\",\n",
    "    \"samples\": samplelist.TCGA_tumors,\n",
    "    \"name\": \"TCGA_tumors\"\n",
    "    },\n",
    "    { \n",
    "    \"hub\": \"https://toil.xenahubs.net\",\n",
    "    \"dataset\" : \"tcga_RSEM_gene_tpm\",\n",
    "    \"samples\": samplelist.TCGA_BRCA_tumors,\n",
    "    \"name\": \"TCGA_BRCA_tumors\"\n",
    "    },\n",
    "    { \n",
    "    \"hub\": \"https://toil.xenahubs.net\",\n",
    "    \"dataset\" : \"tcga_RSEM_gene_tpm\",\n",
    "    \"samples\": samplelist.TCGA_TNBC,\n",
    "    \"name\": \"TCGA_TNBC\"\n",
    "    },\n",
    "    { \n",
    "    \"hub\": \"https://toil.xenahubs.net\",\n",
    "    \"dataset\" : \"gtex_RSEM_gene_tpm\",\n",
    "    \"samples\": samplelist.GTEX_breast,\n",
    "    \"name\": \"GTEX_breast\"\n",
    "    }]\n",
    "\n",
    "\n",
    "import sys, getopt\n",
    "import itomic_Nof1\n",
    "\n",
    "def input(argv, Nof1_sample, gene):\n",
    "    try:\n",
    "        opts, args = getopt.getopt(argv,\"hs:g:\")\n",
    "        for opt, arg in opts:\n",
    "            if opt == '-h':\n",
    "                print (\"python Nof1.py -s <sample> -g <gene>\")\n",
    "                sys.exit()\n",
    "            if opt in (\"-s\"):\n",
    "                Nof1_sample = arg\n",
    "            if opt in (\"-g\"):\n",
    "                gene = arg\n",
    "\n",
    "    except getopt.GetoptError:\n",
    "        pass\n",
    "    return Nof1_sample, gene\n",
    "\n",
    "def legend():\n",
    "    print \"\\nexpression values are sorted from high to low, low rank means high expression\"\n",
    "    \n",
    "if __name__ == \"__main__\":\n",
    "    Nof1_sample, gene = input(sys.argv[1:], Nof1_sample, gene)\n",
    "    itomic_Nof1.itomic_Nof1(Nof1_sample, gene, Nof1_hub, Nof1_dataset, comparison_list)\n",
    "    legend()"
   ]
  }
 ],
 "metadata": {
  "anaconda-cloud": {},
  "kernelspec": {
   "display_name": "Python [ipykernel_py2]",
   "language": "python",
   "name": "Python [ipykernel_py2]"
  },
  "language_info": {
   "codemirror_mode": {
    "name": "ipython",
    "version": 2
   },
   "file_extension": ".py",
   "mimetype": "text/x-python",
   "name": "python",
   "nbconvert_exporter": "python",
   "pygments_lexer": "ipython2",
   "version": "2.7.12"
  }
 },
 "nbformat": 4,
 "nbformat_minor": 0
}
