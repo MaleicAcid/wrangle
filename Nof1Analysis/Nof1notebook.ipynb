{
 "cells": [
  {
   "cell_type": "markdown",
   "metadata": {},
   "source": [
    "## enter sample"
   ]
  },
  {
   "cell_type": "code",
   "execution_count": null,
   "metadata": {
    "collapsed": false
   },
   "outputs": [],
   "source": [
    "Nof1_sample = raw_input('Enter sample name (e.g. 09-3-B1): ') or \"09-3-B1\"\n",
    "print Nof1_sample"
   ]
  },
  {
   "cell_type": "code",
   "execution_count": null,
   "metadata": {
    "collapsed": true
   },
   "outputs": [],
   "source": [
    "import sys\n",
    "import Nof1_functions\n",
    "Nof1_hub = \"https://itomic.xenahubs.net\"\n",
    "Nof1_dataset = \"latestCCI_EXP_G_TPM_log\""
   ]
  },
  {
   "cell_type": "markdown",
   "metadata": {},
   "source": [
    "# check sample"
   ]
  },
  {
   "cell_type": "code",
   "execution_count": null,
   "metadata": {
    "collapsed": false
   },
   "outputs": [],
   "source": [
    "if (Nof1_functions.checkSamples (Nof1_sample, Nof1_hub, Nof1_dataset)):\n",
    "    sys.exit()\n",
    "else:\n",
    "    print \"pass\""
   ]
  },
  {
   "cell_type": "markdown",
   "metadata": {},
   "source": [
    "# enter gene "
   ]
  },
  {
   "cell_type": "code",
   "execution_count": null,
   "metadata": {
    "collapsed": false
   },
   "outputs": [],
   "source": [
    "import re\n",
    "genes = raw_input('Enter a single or a list of gene names (e.g. PTEN or PTEN TP53): ') or \"PTEN,TP53\"\n",
    "genes = filter(lambda x: x!='', re.split(';|,| |\\n', genes))\n",
    "print genes"
   ]
  },
  {
   "cell_type": "markdown",
   "metadata": {},
   "source": [
    "# gene name mapping"
   ]
  },
  {
   "cell_type": "code",
   "execution_count": null,
   "metadata": {
    "collapsed": true
   },
   "outputs": [],
   "source": [
    "genaname_mapping ={\n",
    "    \"CTLA-4\" : \"CTLA4\",\n",
    "    \"LAG-3\" : \"LAG3\",\n",
    "    \"LIV-1\" : \"SLC39A6\",\n",
    "    \"PD-L1\" : \"CD274\",\n",
    "    \"PD-L2\" : \"PDCD1LG2\",\n",
    "    \"TROP2\" : \"TACSTD2\"\n",
    "}"
   ]
  },
  {
   "cell_type": "markdown",
   "metadata": {},
   "source": [
    "# check gene name"
   ]
  },
  {
   "cell_type": "code",
   "execution_count": null,
   "metadata": {
    "collapsed": false
   },
   "outputs": [],
   "source": [
    "if (Nof1_functions.checkFields(genes, genaname_mapping, Nof1_hub, Nof1_dataset)):\n",
    "    sys.exit()\n",
    "else:\n",
    "    print \"pass\""
   ]
  },
  {
   "cell_type": "markdown",
   "metadata": {},
   "source": [
    "## Run - results at the bottom"
   ]
  },
  {
   "cell_type": "code",
   "execution_count": null,
   "metadata": {
    "collapsed": false,
    "scrolled": false
   },
   "outputs": [],
   "source": [
    "import xena_datasetlist\n",
    "\n",
    "comparison_list = [\n",
    "    xena_datasetlist.TCGA_BRCA_tumors,\n",
    "    xena_datasetlist.TCGA_TNBC\n",
    "]\n",
    "\n",
    "import itomic_Nof1\n",
    "\n",
    "for gene in genes:\n",
    "    itomic_Nof1.itomic_Nof1(Nof1_sample, gene, genaname_mapping[gene], Nof1_hub, Nof1_dataset, comparison_list)\n",
    "\n",
    "itomic_Nof1.itomic_legend()"
   ]
  }
 ],
 "metadata": {
  "anaconda-cloud": {},
  "kernelspec": {
   "display_name": "Python [Root]",
   "language": "python",
   "name": "Python [Root]"
  },
  "language_info": {
   "codemirror_mode": {
    "name": "ipython",
    "version": 2
   },
   "file_extension": ".py",
   "mimetype": "text/x-python",
   "name": "python",
   "nbconvert_exporter": "python",
   "pygments_lexer": "ipython2",
   "version": "2.7.12"
  }
 },
 "nbformat": 4,
 "nbformat_minor": 0
}
