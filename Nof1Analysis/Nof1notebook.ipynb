{
 "cells": [
  {
   "cell_type": "markdown",
   "metadata": {},
   "source": [
    "## enter sample"
   ]
  },
  {
   "cell_type": "code",
   "execution_count": null,
   "metadata": {
    "collapsed": false
   },
   "outputs": [],
   "source": [
    "Nof1_sample = raw_input('Enter sample name (e.g. 09-3-B1): ')\n",
    "print Nof1_sample"
   ]
  },
  {
   "cell_type": "markdown",
   "metadata": {},
   "source": [
    "## enter gene "
   ]
  },
  {
   "cell_type": "code",
   "execution_count": null,
   "metadata": {
    "collapsed": false
   },
   "outputs": [],
   "source": [
    "gene = raw_input('Enter gene name (e.g. PTEN): ')\n",
    "print gene"
   ]
  },
  {
   "cell_type": "markdown",
   "metadata": {},
   "source": [
    "## Run - results at the bottom"
   ]
  },
  {
   "cell_type": "code",
   "execution_count": null,
   "metadata": {
    "collapsed": false
   },
   "outputs": [],
   "source": [
    "Nof1_hub = \"https://itomic.xenahubs.net\"\n",
    "Nof1_dataset = \"latestCCI_EXP_G_TPM_log\"\n",
    "\n",
    "import samplelist\n",
    "\n",
    "comparison_list = [\n",
    "    { \n",
    "    \"hub\": \"https://toil.xenahubs.net\",\n",
    "    \"dataset\" : \"tcga_RSEM_gene_tpm\",\n",
    "    \"samples\": samplelist.TCGA_tumors,\n",
    "    \"name\": \"TCGA_tumors\"\n",
    "    },\n",
    "    { \n",
    "    \"hub\": \"https://toil.xenahubs.net\",\n",
    "    \"dataset\" : \"tcga_RSEM_gene_tpm\",\n",
    "    \"samples\": samplelist.TCGA_BRCA_tumors,\n",
    "    \"name\": \"TCGA_BRCA_tumors\"\n",
    "    },\n",
    "    { \n",
    "    \"hub\": \"https://toil.xenahubs.net\",\n",
    "    \"dataset\" : \"tcga_RSEM_gene_tpm\",\n",
    "    \"samples\": samplelist.TCGA_TNBC,\n",
    "    \"name\": \"TCGA_TNBC\"\n",
    "    },\n",
    "    { \n",
    "    \"hub\": \"https://toil.xenahubs.net\",\n",
    "    \"dataset\" : \"gtex_RSEM_gene_tpm\",\n",
    "    \"samples\": samplelist.GTEX_breast,\n",
    "    \"name\": \"GTEX_breast\"\n",
    "    }]\n",
    "\n",
    "import itomic_Nof1\n",
    "\n",
    "def legend():\n",
    "    print \"\\nExpression values are sorted from high to low.\"\n",
    "    print \"Low rank means high expression.\"\n",
    "    print \"Low percentile means high expression.\"\n",
    "    \n",
    "itomic_Nof1.itomic_Nof1(Nof1_sample, gene, Nof1_hub, Nof1_dataset, comparison_list)\n",
    "legend()"
   ]
  }
 ],
 "metadata": {
  "anaconda-cloud": {},
  "kernelspec": {
   "display_name": "Python [ipykernel_py2]",
   "language": "python",
   "name": "Python [ipykernel_py2]"
  },
  "language_info": {
   "codemirror_mode": {
    "name": "ipython",
    "version": 2
   },
   "file_extension": ".py",
   "mimetype": "text/x-python",
   "name": "python",
   "nbconvert_exporter": "python",
   "pygments_lexer": "ipython2",
   "version": "2.7.12"
  }
 },
 "nbformat": 4,
 "nbformat_minor": 0
}
